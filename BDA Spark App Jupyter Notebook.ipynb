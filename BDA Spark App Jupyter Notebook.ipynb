{
 "cells": [
  {
   "cell_type": "code",
   "execution_count": 9,
   "id": "273b0087",
   "metadata": {},
   "outputs": [
    {
     "data": {
      "text/plain": [
       "[['12-17',\n",
       "  '19:31:36.263',\n",
       "  '1795',\n",
       "  '1825IPowerManager_screenOn:DisplayPowerStatesetColorFadeLevel:level=1.0'],\n",
       " ['12-17',\n",
       "  '19:31:36.263',\n",
       "  '5224',\n",
       "  '5283ISendBroadcastPermission:action:android.com.huawei.bone.NOTIFY_SPORT_DATA,mPermissionType:0'],\n",
       " ['12-17',\n",
       "  '19:31:36.264',\n",
       "  '1795',\n",
       "  '1825DDisplayPowerController:Animatingbrightness:target=21,rate=40'],\n",
       " ['12-17',\n",
       "  '19:31:36.264',\n",
       "  '1795',\n",
       "  '1825IPowerManager_screenOn:DisplayPowerControllerupdatePowerStatemPendingRequestLocked=policy=BRIGHT,useProximitySensor=true,useProximitySensorbyPhone=true,screenBrightness=33,screenAutoBrightnessAdjustment=0.0,brightnessSetByUser=true,useAutoBrightness=true,blockScreenOn=false,lowPowerMode=false,boostScreenBrightness=false,dozeScreenBrightness=-1,dozeScreenState=UNKNOWN,useTwilight=false,useSmartBacklight=true,brightnessWaitMode=false,brightnessWaitRet=true,screenAutoBrightness=-1,userId=0'],\n",
       " ['12-17',\n",
       "  '19:31:36.264',\n",
       "  '1795',\n",
       "  '2750IPowerManager_screenOn:DisplayPowerStateUpdatingscreenstate:state=ON,backlight=823']]"
      ]
     },
     "execution_count": 9,
     "metadata": {},
     "output_type": "execute_result"
    }
   ],
   "source": [
    "import time\n",
    "\n",
    "\n",
    "\n",
    "\n",
    "import os\n",
    "os.environ['PYSPARK_SUBMIT_ARGS'] = '--jars /Users/janani/Downloads/coding/pyspark-project/elasticsearch-hadoop-7.12.0.jar pyspark-shell'\n",
    "\n",
    "import pyspark\n",
    "from pyspark import SparkContext, SparkConf\n",
    "from pyspark.sql import *\n",
    "from pyspark.sql.types import (StructField, StringType, StructType, IntegerType)\n",
    "\n",
    "start = time.time()\n",
    "\n",
    "conf = pyspark.SparkConf().setAppName('SparkLog').setMaster('local')\n",
    "sc = pyspark.SparkContext.getOrCreate(conf=conf)\n",
    "schema1 =  StructType([ StructField(\"Date\",StringType(), True), \\\n",
    "         StructField(\"Time\",StringType(), True), \\\n",
    "         StructField(\"Level\",StringType(), True),\\\n",
    "         StructField(\"Msg\",StringType(), True)\n",
    "         ])\n",
    "\n",
    "\n",
    "logpath = 'Android.log' #Need to change this logpath for different log types\n",
    "logTxt = sc.textFile(logpath)\n",
    "logs = logTxt.map(lambda k: [k.split()[0], k.split()[1], k.split()[2], ''.join(k.split()[3:])])\n",
    "logs.take(5)\n",
    "\n"
   ]
  },
  {
   "cell_type": "code",
   "execution_count": 10,
   "id": "3b70a336",
   "metadata": {},
   "outputs": [],
   "source": [
    "import json\n",
    "import hashlib\n",
    "import re\n",
    "\n",
    "def addId(data):\n",
    "    j=json.dumps(data).encode('ascii', 'ignore')\n",
    "    data['doc_id'] = hashlib.sha224(j).hexdigest()\n",
    "    return (data['doc_id'], json.dumps(data))\n",
    "\n",
    "def parse1(item):\n",
    "    d = {}\n",
    "    d['date']=item[0]\n",
    "    d['time']=item[1]\n",
    "    d['level']=item[2]\n",
    "    d['msg']=item[3]\n",
    "    return d"
   ]
  },
  {
   "cell_type": "code",
   "execution_count": null,
   "id": "7ed805b7",
   "metadata": {},
   "outputs": [],
   "source": [
    "rdd = logs.map(parse1)\n",
    "final_rdd = rdd.map(addId)\n",
    "\n",
    "end = time.time()\n",
    "print(end - start)\n",
    "\n",
    "final_rdd.saveAsNewAPIHadoopFile(path='-',\n",
    "outputFormatClass=\"org.elasticsearch.hadoop.mr.EsOutputFormat\",\n",
    "keyClass=\"org.apache.hadoop.io.NullWritable\",\n",
    "valueClass=\"org.elasticsearch.hadoop.mr.LinkedMapWritable\",\n",
    "conf={ \"es.resource\" : \"spark_spark/doc\", \"es.mapping.id\":\"id\",\n",
    "\"es.input.json\": \"true\", \"es.net.http.auth.user\":\"elastic\",\n",
    "\"es.write.operation\":\"index\", \"es.nodes.wan.only\":\"false\",\n",
    "\"es.net.http.auth.pass\":\"nYCy8JB8xQ3ImulyQGNp\", \"es.nodes\":\"http://ms1133.utah.cloudlab.us\",\n",
    "\"es.port\":\"3718\" })"
   ]
  },
  {
   "cell_type": "code",
   "execution_count": null,
   "id": "6aa77a15",
   "metadata": {},
   "outputs": [],
   "source": []
  }
 ],
 "metadata": {
  "kernelspec": {
   "display_name": "Python 3",
   "language": "python",
   "name": "python3"
  },
  "language_info": {
   "codemirror_mode": {
    "name": "ipython",
    "version": 3
   },
   "file_extension": ".py",
   "mimetype": "text/x-python",
   "name": "python",
   "nbconvert_exporter": "python",
   "pygments_lexer": "ipython3",
   "version": "3.8.2"
  }
 },
 "nbformat": 4,
 "nbformat_minor": 5
}
